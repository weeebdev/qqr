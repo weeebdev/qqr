{
 "cells": [
  {
   "cell_type": "code",
   "execution_count": null,
   "metadata": {},
   "outputs": [],
   "source": [
    "import cv2\n",
    "import numpy as np\n",
    "import matplotlib.pyplot as plt\n",
    "from os import listdir\n",
    "from os.path import isfile, join\n",
    "from skew import *\n",
    "\n",
    "%matplotlib inline\n",
    "plt.rcParams['figure.figsize'] = (10.0, 5.0) # set default size of plots\n",
    "plt.rcParams['image.interpolation'] = 'nearest'\n",
    "plt.rcParams['image.cmap'] = 'gray'\n",
    "\n",
    "images = [f for f in listdir('qr_dataset//skewed') if isfile(join('qr_dataset//skewed', f))]\n",
    "images = ['qr_dataset//skewed//' + i for i in images]"
   ]
  },
  {
   "cell_type": "markdown",
   "metadata": {},
   "source": [
    "# Example"
   ]
  },
  {
   "cell_type": "code",
   "execution_count": null,
   "metadata": {},
   "outputs": [],
   "source": [
    "skew = Skew()\n",
    "detect = cv2.QRCodeDetector()\n",
    "       \n",
    "for image in images[:4]:\n",
    "    orig = cv2.imread(image)\n",
    "    img = cv2.imread(image.replace('skewed', 'original'), cv2.IMREAD_GRAYSCALE)\n",
    "    deskewed = skew.deskew(orig)\n",
    "    \n",
    "    value1, points1, straight_qrcode1 = detect.detectAndDecode(img)\n",
    "    deskewed = np.pad(array=deskewed, pad_width=50, mode='constant', constant_values=255)\n",
    "    value2, points2, straight_qrcode2 = detect.detectAndDecode(deskewed)\n",
    "    \n",
    "    plt.subplot(1, 4, 1)\n",
    "    plt.title('Skewed Image')\n",
    "    plt.imshow(orig)\n",
    "    \n",
    "    plt.subplot(1, 4, 2)\n",
    "    plt.title('Original')\n",
    "    plt.imshow(straight_qrcode1)\n",
    "    \n",
    "    if straight_qrcode2 is not None:\n",
    "        plt.subplot(1, 4, 3)\n",
    "        plt.title('Deskewed')\n",
    "        plt.imshow(straight_qrcode2)\n",
    "\n",
    "        plt.subplot(1, 4, 4)\n",
    "        plt.title('Difference')\n",
    "        plt.imshow(straight_qrcode1 ^ straight_qrcode2)\n",
    "        print(f'The mean absolute error of the image is {np.mean(np.abs(straight_qrcode1 - straight_qrcode2))}')\n",
    "    else:\n",
    "        print('Cannot deskew this image')\n",
    "    plt.show()\n",
    "    "
   ]
  },
  {
   "cell_type": "markdown",
   "metadata": {},
   "source": [
    "# Test Dataset"
   ]
  },
  {
   "cell_type": "code",
   "execution_count": null,
   "metadata": {},
   "outputs": [],
   "source": [
    "def read_qr_code(img):\n",
    "    \"\"\"Read an image and read the QR code.\n",
    "    \n",
    "    Args:\n",
    "        filename (string): Path to file\n",
    "    \n",
    "    Returns:\n",
    "        qr (string): Value from QR code\n",
    "    \"\"\"\n",
    "    \n",
    "    try:\n",
    "        detect = cv2.QRCodeDetector()\n",
    "#         print(detect)\n",
    "        value, points, straight_qrcode = detect.detectAndDecode(img)\n",
    "        return value\n",
    "    except:\n",
    "        return"
   ]
  },
  {
   "cell_type": "markdown",
   "metadata": {},
   "source": [
    "## Decode value"
   ]
  },
  {
   "cell_type": "code",
   "execution_count": null,
   "metadata": {},
   "outputs": [],
   "source": [
    "from skew import *\n",
    "\n",
    "skew = Skew()\n",
    "acc = 0\n",
    "failed = []\n",
    "for index, path in enumerate(images): \n",
    "    true_val = path[-11:-7]\n",
    "    img = cv2.imread(path, cv2.IMREAD_GRAYSCALE)\n",
    "    deskewed = skew.deskew(img)\n",
    "    read = read_qr_code(deskewed)\n",
    "    if read == true_val:\n",
    "        acc += 1\n",
    "    else:\n",
    "        failed.append(path)\n",
    "    print(f'Image #{index+1}\\tPath: {path}\\tTrue value: {true_val}\\tPredicted: {read}')"
   ]
  },
  {
   "cell_type": "code",
   "execution_count": null,
   "metadata": {},
   "outputs": [],
   "source": [
    "print(f'The accuracy on this dataset is {round(acc*100/len(images), 2)}%')"
   ]
  },
  {
   "cell_type": "markdown",
   "metadata": {},
   "source": [
    "## Compare Images"
   ]
  },
  {
   "cell_type": "code",
   "execution_count": null,
   "metadata": {},
   "outputs": [],
   "source": [
    "def mse(img1, img2):\n",
    "    h, w = img1.shape\n",
    "    diff = cv2.subtract(img1, img2)\n",
    "    err = np.sum(diff**2)\n",
    "    mse = err/(float(h*w))\n",
    "    return mse"
   ]
  },
  {
   "cell_type": "code",
   "execution_count": null,
   "metadata": {},
   "outputs": [],
   "source": [
    "errors = []\n",
    "detect = cv2.QRCodeDetector()\n",
    "for index, path in enumerate(images): \n",
    "    print(f'Image #{index+1}\\t Path: {path}')\n",
    "    img = cv2.imread(path, cv2.IMREAD_GRAYSCALE)\n",
    "    deskewed = skew.deskew(img)\n",
    "    _, _, orig_qr = detect.detectAndDecode(img)\n",
    "    _, _, deskew_qr = detect.detectAndDecode(deskewed)\n",
    "    if deskew_qr is not None:\n",
    "#         plt.subplot(1, 2, 1)\n",
    "#         plt.title('Original Extr')\n",
    "#         plt.imshow(orig_qr)\n",
    "\n",
    "#         plt.subplot(1, 2, 2)\n",
    "#         plt.title('Deskewed Extr')\n",
    "#         plt.imshow(deskew_qr)\n",
    "#         plt.show()\n",
    "        errors.append(mse(orig_qr, deskew_qr))\n",
    "        print(mse(orig_qr, deskew_qr))"
   ]
  },
  {
   "cell_type": "code",
   "execution_count": null,
   "metadata": {},
   "outputs": [],
   "source": [
    "print(f'The mean squared error of this dataset is {round(np.mean(errors), 2)}')"
   ]
  }
 ],
 "metadata": {
  "kernelspec": {
   "display_name": "Python 3.10.8 64-bit",
   "language": "python",
   "name": "python3"
  },
  "language_info": {
   "codemirror_mode": {
    "name": "ipython",
    "version": 3
   },
   "file_extension": ".py",
   "mimetype": "text/x-python",
   "name": "python",
   "nbconvert_exporter": "python",
   "pygments_lexer": "ipython3",
   "version": "3.10.8"
  },
  "vscode": {
   "interpreter": {
    "hash": "b0fa6594d8f4cbf19f97940f81e996739fb7646882a419484c72d19e05852a7e"
   }
  }
 },
 "nbformat": 4,
 "nbformat_minor": 4
}
