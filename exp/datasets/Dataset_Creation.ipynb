{
 "cells": [
  {
   "cell_type": "code",
   "execution_count": null,
   "metadata": {},
   "outputs": [],
   "source": [
    "import pandas as pd\n",
    "import cv2\n",
    "import matplotlib.pyplot as plt\n",
    "import numpy as np\n",
    "import qrcode\n",
    "import matplotlib.image as mpimg\n",
    "from skimage import io\n",
    "from skimage import transform as tf\n",
    "from random import uniform, randint\n",
    "from Canny import *\n",
    "\n",
    "import pylops\n",
    "import os\n",
    "\n",
    "import warnings\n",
    "warnings.filterwarnings(\"ignore\")\n",
    "\n",
    "%matplotlib inline\n",
    "plt.rcParams['figure.figsize'] = (20.0, 15.0) # set default size of plots\n",
    "plt.rcParams['image.interpolation'] = 'nearest'\n",
    "plt.rcParams['image.cmap'] = 'gray'\n",
    "\n",
    "%load_ext autoreload\n",
    "%autoreload 2\n",
    "%reload_ext autoreload"
   ]
  },
  {
   "cell_type": "markdown",
   "metadata": {
    "heading_collapsed": "true"
   },
   "source": [
    "## QR Code Creation"
   ]
  },
  {
   "cell_type": "code",
   "execution_count": null,
   "metadata": {},
   "outputs": [],
   "source": [
    "FOLDER = 'test_dataset\\\\original'\n",
    "\n",
    "if not os.path.isdir(FOLDER):\n",
    "    os.mkdir(FOLDER)\n",
    "\n",
    "for data in np.random.choice(np.arange(1000, 10000), size=10, replace=False):\n",
    "    for version in [1, 2, 3, 4]:\n",
    "        qr = qrcode.QRCode(\n",
    "            version=version,\n",
    "            error_correction=qrcode.constants.ERROR_CORRECT_M,\n",
    "            box_size=10,\n",
    "            border=4\n",
    "        )\n",
    "        qr.add_data(data)\n",
    "        qr.make(fit=True)\n",
    "\n",
    "        img = qr.make_image(fill_color='black', back_color='white')\n",
    "        img = np.float32(np.asarray(img)) * 255\n",
    "        img = np.dstack((img, img, img))\n",
    "\n",
    "        cv2.imwrite(os.path.join(FOLDER, f\"{data}-v{version}.png\"), img)"
   ]
  },
  {
   "cell_type": "code",
   "execution_count": null,
   "metadata": {},
   "outputs": [],
   "source": [
    "from os import listdir\n",
    "from os.path import isfile, join\n",
    "# images = [f for f in listdir('qr_dataset//original') if isfile(join('qr_dataset//original', f))]\n",
    "images = [f for f in listdir('test_dataset//original') if isfile(join('test_dataset//original', f))]"
   ]
  },
  {
   "cell_type": "markdown",
   "metadata": {},
   "source": [
    "## Smoothing"
   ]
  },
  {
   "cell_type": "markdown",
   "metadata": {},
   "source": [
    "### Example\n",
    "\n",
    "We select Gaussian Filter with size 25x25 and sigma value 7, because these images cannot be read by QR-code readers, such as OpenCV or built-in mobile phone readers. Any larger values result in too blurred images."
   ]
  },
  {
   "cell_type": "code",
   "execution_count": null,
   "metadata": {},
   "outputs": [],
   "source": [
    "img = io.imread('qr_dataset\\\\original\\\\' + images[0], as_gray=True)\n",
    "smoothed_images = [img]\n",
    "values = [1, 2, 5, 10]\n",
    "fig_titles = ['Original image', 'Smoothed image', 'Smoothed image (2x)', 'Smoothed image (5x)', 'Smoothed image (10x)']\n",
    "splots = 5\n",
    "\n",
    "plt.subplot(1,splots,1)\n",
    "plt.imshow(img)\n",
    "plt.title(fig_titles[0])\n",
    "plt.axis('off')\n",
    "\n",
    "for i in range(4):\n",
    "    kernel = gaussian_kernel(5*values[i], 1.4*values[i])\n",
    "    smoothed = conv(img, kernel)\n",
    "\n",
    "    plt.subplot(1,splots,i+2)\n",
    "    plt.imshow(smoothed)\n",
    "    plt.title(fig_titles[i+1])\n",
    "    plt.axis('off')\n",
    "    smoothed_images.append(smoothed)\n",
    "\n",
    "plt.show()"
   ]
  },
  {
   "cell_type": "markdown",
   "metadata": {},
   "source": [
    "### Adding to the dataset\n",
    "\n",
    "We apply this blur to every image in the original folder."
   ]
  },
  {
   "cell_type": "code",
   "execution_count": null,
   "metadata": {},
   "outputs": [],
   "source": [
    "# kernel = gaussian_kernel(5*5, 1.4*5)\n",
    "# for image in images:\n",
    "#     image_name = 'qr_dataset//blurred//' + image\n",
    "#     img = io.imread('qr_dataset\\\\original\\\\' + image, as_gray=True)\n",
    "#     smoothed = conv(img, kernel)\n",
    "#     io.imsave(image_name, smoothed)"
   ]
  },
  {
   "cell_type": "code",
   "execution_count": null,
   "metadata": {},
   "outputs": [],
   "source": [
    "def uniform_disk_kernel(size, R):\n",
    "    \n",
    "    kernel = np.zeros((size, size))\n",
    "    for i in range(size):\n",
    "        for j in range(size):\n",
    "            if(i**2+j**2<=R**2):\n",
    "                kernel[i][j] = 1./(np.pi*R**2)\n",
    "    return kernel"
   ]
  },
  {
   "cell_type": "code",
   "execution_count": null,
   "metadata": {},
   "outputs": [],
   "source": [
    "for path in images:\n",
    "    Nz=300\n",
    "    Nx=300\n",
    "    img = io.imread(path, as_gray=True)\n",
    "    img = cv2.resize(img, dsize=(Nz, Nx), interpolation=cv2.INTER_CUBIC)\n",
    "\n",
    "    size=10\n",
    "    R=30\n",
    "\n",
    "    h=uniform_disk_kernel(size, R)\n",
    "\n",
    "    Cop = pylops.signalprocessing.Convolve2D(\n",
    "      dims=(Nz, Nx), h=h, offset=(size // 2, size // 2), dtype=\"float32\"\n",
    "    )\n",
    "    image_name = path.replace('original', 'blurred')\n",
    "    imblur = Cop * img\n",
    "\n",
    "    io.imsave(image_name, imblur)"
   ]
  },
  {
   "cell_type": "markdown",
   "metadata": {},
   "source": [
    "## Skew"
   ]
  },
  {
   "cell_type": "markdown",
   "metadata": {},
   "source": [
    "### Example\n",
    "\n",
    "We select 4 different angles of skew. Any smaller values result in too skewed image, that would be almost impossible to read, while larger values do the same, but also block the finder patters."
   ]
  },
  {
   "cell_type": "code",
   "execution_count": null,
   "metadata": {},
   "outputs": [],
   "source": [
    "from skew import *\n",
    "\n",
    "skew = Skew()\n",
    "image = Image.open('qr_dataset/original/1077-v1.png')\n",
    "image = np.asarray(image)\n",
    "degrees = [70, 80, 95, 100]\n",
    "for i in range(4):\n",
    "    skewed_image_canvas = skew.canvasSize(image, degrees[i])\n",
    "    newImage_30 = skew.shear(image, degrees[i], skewed_image_canvas)\n",
    "    plt.imshow(newImage_30)\n",
    "    plt.show()"
   ]
  },
  {
   "cell_type": "markdown",
   "metadata": {},
   "source": [
    "### Adding to the Dataset"
   ]
  },
  {
   "cell_type": "code",
   "execution_count": null,
   "metadata": {},
   "outputs": [],
   "source": [
    "from PIL import Image\n",
    "\n",
    "for image in images:\n",
    "    image_name = 'test_dataset//skewed//' + image\n",
    "    img = Image.open('test_dataset//original//' + image)\n",
    "    img = np.asarray(img)\n",
    "    deg = randint(0, 3)\n",
    "    skewed_image_canvas = skew.canvasSize(img, degrees[deg])\n",
    "    modified = skew.shear(img, degrees[deg], skewed_image_canvas)\n",
    "    io.imsave(image_name, modified)"
   ]
  },
  {
   "cell_type": "markdown",
   "metadata": {},
   "source": [
    "### Visualization"
   ]
  },
  {
   "cell_type": "code",
   "execution_count": null,
   "metadata": {},
   "outputs": [],
   "source": [
    "plt.rcParams.update({'font.size': 22})\n",
    "\n",
    "img = io.imread('qr_dataset\\\\original\\\\' + images[0], as_gray=True)\n",
    "\n",
    "plt.subplot(1, 4, 1)\n",
    "plt.imshow(img)\n",
    "plt.axis('off')\n",
    "plt.title(f'Original Image')\n",
    "\n",
    "img = io.imread('qr_dataset\\\\blurred\\\\' + images[0].split('.')[0] + '-blurred.png', as_gray=True)\n",
    "\n",
    "plt.subplot(1, 4, 2)\n",
    "plt.imshow(img)\n",
    "plt.axis('off')\n",
    "plt.title(f'Blurred Image')\n",
    "\n",
    "img = io.imread('qr_dataset\\\\skewed\\\\' + images[0].split('.')[0] + '-skewed.png', as_gray=True)\n",
    "\n",
    "plt.subplot(1, 4, 3)\n",
    "plt.imshow(img)\n",
    "plt.axis('off')\n",
    "plt.title(f'Skewed Image')\n",
    "\n",
    "img = io.imread('qr_dataset\\\\QR-DN1.0\\\\extracted One\\\\test\\\\1500.jpg', as_gray=True)\n",
    "\n",
    "plt.subplot(1, 4, 4)\n",
    "plt.imshow(img)\n",
    "plt.axis('off')\n",
    "plt.title(f'QR-DN1.0 Image')"
   ]
  }
 ],
 "metadata": {
  "kernelspec": {
   "display_name": "Python 3",
   "language": "python",
   "name": "python3"
  },
  "language_info": {
   "codemirror_mode": {
    "name": "ipython",
    "version": 3
   },
   "file_extension": ".py",
   "mimetype": "text/x-python",
   "name": "python",
   "nbconvert_exporter": "python",
   "pygments_lexer": "ipython3",
   "version": "3.6.12"
  }
 },
 "nbformat": 4,
 "nbformat_minor": 4
}
