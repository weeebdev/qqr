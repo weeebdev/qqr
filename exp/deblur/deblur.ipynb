{
 "cells": [
  {
   "cell_type": "code",
   "execution_count": 1,
   "id": "497db5de",
   "metadata": {},
   "outputs": [],
   "source": [
    "from __future__ import print_function\n",
    "\n",
    "#Setup\n",
    "# The Random module might be used for pseudo-random number generators\n",
    "import random \n",
    "\n",
    "# Numpy plays important role in scientific computing with Python, especially for coding vision algorithms. \n",
    "# This package will be one of our most used libraries in this class. Make sure you spend enough time for practicing it.\n",
    "import numpy as np\n",
    "\n",
    "# This module is used to measure the execution time of code sections  \n",
    "from time import time\n",
    "\n",
    "#This module is used to read and write image in various formats\n",
    "from skimage import io\n",
    "\n",
    "#Imports all the methods in each of the files: linear_algebra.py, image_manipulation.py, and convolution.py\n",
    "from linear_algebra import *\n",
    "from image_manipulation import *\n",
    "from convolution import *\n",
    "\n",
    "#Matplotlib is a useful plotting library for python \n",
    "import matplotlib.pyplot as plt\n",
    "import glob\n",
    "import cv2\n",
    "import pathlib\n",
    "\n",
    "# This code is to make matplotlib figures appear inline in the\n",
    "# notebook rather than in a new window.\n",
    "%matplotlib inline\n",
    "plt.rcParams['figure.figsize'] = (10.0, 8.0) # set default size of plots\n",
    "plt.rcParams['image.interpolation'] = 'nearest'\n",
    "plt.rcParams['image.cmap'] = 'gray'\n",
    "\n",
    "# for auto-reloading extenrnal modules\n",
    "%load_ext autoreload\n",
    "%autoreload 2\n",
    "%reload_ext autoreload"
   ]
  },
  {
   "cell_type": "code",
   "execution_count": null,
   "id": "672158bd",
   "metadata": {},
   "outputs": [],
   "source": [
    "from Deblur import *\n",
    "imblur=io.imread('2080-v3.png', as_gray=True)\n",
    "deblur=non_blind(imblur)\n",
    "show(deblur)\n",
    "imdeblur=blind(imblur)\n",
    "show(imdeblur)"
   ]
  },
  {
   "cell_type": "code",
   "execution_count": null,
   "id": "32da47e3",
   "metadata": {},
   "outputs": [],
   "source": []
  }
 ],
 "metadata": {
  "kernelspec": {
   "display_name": "Python 3.10.8 64-bit",
   "language": "python",
   "name": "python3"
  },
  "language_info": {
   "codemirror_mode": {
    "name": "ipython",
    "version": 3
   },
   "file_extension": ".py",
   "mimetype": "text/x-python",
   "name": "python",
   "nbconvert_exporter": "python",
   "pygments_lexer": "ipython3",
   "version": "3.10.8"
  },
  "vscode": {
   "interpreter": {
    "hash": "b0fa6594d8f4cbf19f97940f81e996739fb7646882a419484c72d19e05852a7e"
   }
  }
 },
 "nbformat": 4,
 "nbformat_minor": 5
}
